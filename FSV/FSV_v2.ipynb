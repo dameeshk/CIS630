{
 "cells": [
  {
   "cell_type": "markdown",
   "metadata": {
    "id": "J_wNtuewZV8K"
   },
   "source": []
  },
  {
   "cell_type": "code",
   "execution_count": 2,
   "metadata": {
    "colab": {
     "base_uri": "https://localhost:8080/"
    },
    "id": "LLIUYQCeZ8Vn",
    "outputId": "0cca78c3-62f0-4b10-859e-58362d5f77c4"
   },
   "outputs": [
    {
     "name": "stdout",
     "output_type": "stream",
     "text": [
      "C:\\Users\\qwe\\Downloads\\FSV2\n"
     ]
    }
   ],
   "source": [
    "import os\n",
    "root = os.getcwd()\n",
    "print(root)"
   ]
  },
  {
   "cell_type": "code",
   "execution_count": 2,
   "metadata": {
    "colab": {
     "base_uri": "https://localhost:8080/"
    },
    "id": "g3qagC3Q24FF",
    "outputId": "9543a5bc-2c9f-48e2-c548-9e706447c2ce"
   },
   "outputs": [
    {
     "name": "stderr",
     "output_type": "stream",
     "text": [
      "fatal: destination path 'Flow-Style-VTON' already exists and is not an empty directory.\n"
     ]
    }
   ],
   "source": [
    "!git clone https://github.com/SenHe/Flow-Style-VTON.git"
   ]
  },
  {
   "cell_type": "code",
   "execution_count": 4,
   "metadata": {
    "id": "p98tfjHQ28FO"
   },
   "outputs": [],
   "source": [
    "import gdown\n",
    "import os\n",
    "os.chdir(os.path.join(root, 'Flow-Style-VTON'))\n"
   ]
  },
  {
   "cell_type": "code",
   "execution_count": 3,
   "metadata": {
    "colab": {
     "base_uri": "https://localhost:8080/"
    },
    "id": "RMkkwJTU5d8A",
    "outputId": "6aabb7b4-639b-46d5-e0b7-1f881d1a23d6"
   },
   "outputs": [
    {
     "name": "stdout",
     "output_type": "stream",
     "text": [
      "[WinError 2] The system cannot find the file specified: 'test'\n",
      "C:\\Users\\qwe\\Downloads\\FSV2\n"
     ]
    }
   ],
   "source": [
    "%cd test\n",
    "!mkdir test_data"
   ]
  },
  {
   "cell_type": "code",
   "execution_count": 6,
   "metadata": {
    "colab": {
     "base_uri": "https://localhost:8080/",
     "height": 160
    },
    "id": "z5vW8c_u3KcM",
    "outputId": "eed4d666-28dc-45b1-fafb-c60374846732"
   },
   "outputs": [
    {
     "name": "stdout",
     "output_type": "stream",
     "text": [
      "C:\\Users\\qwe\\Downloads\\FSV2\\Flow-Style-VTON\\test\\test_data\n"
     ]
    },
    {
     "name": "stderr",
     "output_type": "stream",
     "text": [
      "Downloading...\n",
      "From (original): https://drive.google.com/uc?id=1Y7uV0gomwWyxCvvH8TIbY7D9cTAUy6om\n",
      "From (redirected): https://drive.google.com/uc?id=1Y7uV0gomwWyxCvvH8TIbY7D9cTAUy6om&confirm=t&uuid=89c1473e-83f9-4243-8f0d-aed6b5dc8dc7\n",
      "To: C:\\Users\\qwe\\Downloads\\FSV2\\Flow-Style-VTON\\test\\test_data\\test_data.zip\n",
      "100%|█████████████████████████████████████████████████████████████████████████████| 32.5M/32.5M [00:00<00:00, 43.4MB/s]\n"
     ]
    },
    {
     "data": {
      "text/plain": [
       "'test_data.zip'"
      ]
     },
     "execution_count": 6,
     "metadata": {},
     "output_type": "execute_result"
    }
   ],
   "source": [
    "%cd test_data\n",
    "gdown.download('https://drive.google.com/uc?id=1Y7uV0gomwWyxCvvH8TIbY7D9cTAUy6om', 'test_data.zip', quiet=False)\n",
    "\n"
   ]
  },
  {
   "cell_type": "code",
   "execution_count": 6,
   "metadata": {
    "colab": {
     "base_uri": "https://localhost:8080/"
    },
    "id": "LTYE82An6pAM",
    "outputId": "a0fe7779-1869-45fa-c9b6-5c46baece60a"
   },
   "outputs": [
    {
     "name": "stdout",
     "output_type": "stream",
     "text": [
      "C:\\Users\\qwe\\Downloads\\FSV2\\Flow-Style-VTON\\test\n"
     ]
    }
   ],
   "source": [
    "\n",
    "#!unzip test_data.zip\n",
    "%cd .."
   ]
  },
  {
   "cell_type": "code",
   "execution_count": 7,
   "metadata": {
    "id": "pebYtfqc-ZVD"
   },
   "outputs": [],
   "source": [
    "!mkdir checkpoints"
   ]
  },
  {
   "cell_type": "code",
   "execution_count": 8,
   "metadata": {
    "colab": {
     "base_uri": "https://localhost:8080/",
     "height": 142
    },
    "id": "h8ItfKr_5-Wn",
    "outputId": "5c5029f8-7b22-4faa-b918-8f4fff99b5ba"
   },
   "outputs": [
    {
     "name": "stderr",
     "output_type": "stream",
     "text": [
      "Downloading...\n",
      "From (original): https://drive.google.com/uc?id=1pYrLujkd2gmQGqtnROCzSSnVwbMh9DnP\n",
      "From (redirected): https://drive.google.com/uc?id=1pYrLujkd2gmQGqtnROCzSSnVwbMh9DnP&confirm=t&uuid=bea42b69-2c49-46c7-b2fe-8a3e6c42c5c9\n",
      "To: C:\\Users\\qwe\\Downloads\\FSV2\\Flow-Style-VTON\\test\\checkpoints\\checkpoints.zip\n",
      "100%|██████████| 574M/574M [00:09<00:00, 61.3MB/s] \n"
     ]
    },
    {
     "data": {
      "text/plain": [
       "'checkpoints/checkpoints.zip'"
      ]
     },
     "execution_count": 8,
     "metadata": {},
     "output_type": "execute_result"
    }
   ],
   "source": [
    "# prompt:\n",
    "gdown.download('https://drive.google.com/uc?id=1pYrLujkd2gmQGqtnROCzSSnVwbMh9DnP', 'checkpoints/checkpoints.zip', quiet=False)"
   ]
  },
  {
   "cell_type": "code",
   "execution_count": 4,
   "metadata": {
    "colab": {
     "base_uri": "https://localhost:8080/"
    },
    "id": "LHTAvCAxdu2T",
    "outputId": "8bafcc64-9693-47c9-bd42-00f4e9d232ed"
   },
   "outputs": [
    {
     "name": "stdout",
     "output_type": "stream",
     "text": [
      "[WinError 2] The system cannot find the file specified: 'checkpoints'\n",
      "C:\\Users\\qwe\\Downloads\\FSV2\n"
     ]
    },
    {
     "data": {
      "text/plain": [
       "'C:\\\\Users\\\\qwe\\\\Downloads\\\\FSV2'"
      ]
     },
     "execution_count": 4,
     "metadata": {},
     "output_type": "execute_result"
    }
   ],
   "source": [
    "%cd checkpoints\n",
    "%pwd"
   ]
  },
  {
   "cell_type": "code",
   "execution_count": 8,
   "metadata": {
    "colab": {
     "base_uri": "https://localhost:8080/"
    },
    "id": "iCZhkiCRBgcx",
    "outputId": "52489f1c-8f99-433c-a5a8-c16ddfc71bf0"
   },
   "outputs": [
    {
     "name": "stdout",
     "output_type": "stream",
     "text": [
      "C:\\Users\\qwe\\Downloads\\FSV2\\Flow-Style-VTON\\test\n"
     ]
    }
   ],
   "source": [
    "#!unzip checkpoints.zip\n",
    "%cd .."
   ]
  },
  {
   "cell_type": "code",
   "execution_count": 1,
   "metadata": {
    "colab": {
     "base_uri": "https://localhost:8080/"
    },
    "id": "vDgsqQXEENW8",
    "outputId": "733120d4-3951-4dd7-ae6f-3db24f57e725"
   },
   "outputs": [
    {
     "name": "stderr",
     "output_type": "stream",
     "text": [
      "python: can't open file 'C:\\\\Users\\\\qwe\\\\Downloads\\\\FSV2\\\\test.py': [Errno 2] No such file or directory\n"
     ]
    }
   ],
   "source": [
    "!python test.py --name demo --resize_or_crop None --batchSize 1 --gpu_ids 0 --warp_checkpoint checkpoints\\ckp\\non_aug\\PFAFN_warp_epoch_101.pth --gen_checkpoint checkpoints\\ckp\\non_aug\\PFAFN_gen_epoch_101.pth --dataroot 'test_data\\VITON_test'\n"
   ]
  },
  {
   "cell_type": "code",
   "execution_count": null,
   "metadata": {
    "id": "ddCErgxFE0cP"
   },
   "outputs": [],
   "source": []
  }
 ],
 "metadata": {
  "accelerator": "GPU",
  "colab": {
   "gpuType": "T4",
   "provenance": []
  },
  "kernelspec": {
   "display_name": "p3workshop",
   "language": "python",
   "name": "p3workshop"
  },
  "language_info": {
   "codemirror_mode": {
    "name": "ipython",
    "version": 3
   },
   "file_extension": ".py",
   "mimetype": "text/x-python",
   "name": "python",
   "nbconvert_exporter": "python",
   "pygments_lexer": "ipython3",
   "version": "3.6.13"
  }
 },
 "nbformat": 4,
 "nbformat_minor": 4
}
